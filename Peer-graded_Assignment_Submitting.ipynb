{
 "cells": [
  {
   "cell_type": "markdown",
   "id": "fbe242f5",
   "metadata": {},
   "source": [
    "Exercise 2 - Create a markdown cell with the title of the notebook. (1 pt)"
   ]
  },
  {
   "cell_type": "markdown",
   "id": "d307d43c",
   "metadata": {},
   "source": [
    "Data Science Tools and Ecosystem\n"
   ]
  },
  {
   "cell_type": "markdown",
   "id": "a2b74fd9",
   "metadata": {},
   "source": [
    "In this notebook, Data Science Tools and Ecosystem are summarized."
   ]
  },
  {
   "cell_type": "markdown",
   "id": "f86abd41",
   "metadata": {},
   "source": [
    "Exercise 3 - Create a markdown cell for an introduction. (1 pt)\n",
    "\n"
   ]
  },
  {
   "cell_type": "markdown",
   "id": "e886e696",
   "metadata": {},
   "source": [
    "Objectives:\n",
    "\n",
    "List popular languages that Data Scientists use.\n",
    "List commonly used libraries used by Data Scientists.\n",
    "Comment on Data Science tools."
   ]
  },
  {
   "cell_type": "markdown",
   "id": "e3834c69",
   "metadata": {},
   "source": [
    "Exercise 4 - Create a markdown cell to list data science languages. (3 pts)\n",
    "\n",
    "Some of the popular languages that Data Scientists use are:\n",
    "\n",
    "Python.\n",
    "R.\n",
    "SQL.\n",
    "Java.\n",
    "Julia.\n",
    "Scala.\n",
    "C/C++.\n",
    "JavaScript."
   ]
  },
  {
   "cell_type": "markdown",
   "id": "b98f3be6",
   "metadata": {},
   "source": [
    "Exercise 5 - Create a markdown cell to list data science libraries. (3 pts)\n",
    "\n",
    "Some of the commonly used libraries used by Data Scientists include:\n",
    "\n",
    "TensorFlow.\n",
    "NumPy.\n",
    "SciPy.\n",
    "Pandas."
   ]
  },
  {
   "cell_type": "markdown",
   "id": "935e1086",
   "metadata": {},
   "source": [
    "Exercise 6 - Create a markdown cell with a table of Data Science tools. (3 pts)\n",
    "\n",
    "Data Science Tools:\n",
    "\n",
    "Data Science Tools\t\t\n",
    "SAS. It is one of those data science tools which are specifically designed for statistical operation\t\t\n",
    "Apache Spark\t\t\n",
    "BigML"
   ]
  },
  {
   "cell_type": "markdown",
   "id": "890f5f39",
   "metadata": {},
   "source": [
    "Exercise 7 - Create a markdown cell introducing arithmetic expression examples. (1 pt)\n",
    "\n",
    "Below are a few examples of evaluating arithmetic expressions in Python"
   ]
  },
  {
   "cell_type": "code",
   "execution_count": 3,
   "id": "34d1e07f",
   "metadata": {},
   "outputs": [],
   "source": [
    "result = 3 + 4 * 2  # Evaluates to 11 (4 * 2 = 8, 3 + 8 = 11)\n"
   ]
  },
  {
   "cell_type": "code",
   "execution_count": 4,
   "id": "5212c3e1",
   "metadata": {},
   "outputs": [],
   "source": [
    "result = 2 ** 3  # Evaluates to 8 (2 raised to the power of 3)\n"
   ]
  },
  {
   "cell_type": "code",
   "execution_count": 5,
   "id": "08543e5b",
   "metadata": {},
   "outputs": [],
   "source": [
    "result = 2 * (3 + 4) - 6 / 2  # Evaluates to 11.0\n",
    "# (3 + 4) = 7, 2 * 7 = 14, 6 / 2 = 3, 14 - 3 = 11\n"
   ]
  },
  {
   "cell_type": "code",
   "execution_count": 6,
   "id": "2130fb07",
   "metadata": {},
   "outputs": [],
   "source": [
    "import math\n",
    "\n",
    "result = math.sqrt(25) + math.sin(math.radians(30))  # Evaluates to approximately 7.5\n",
    "# sqrt(25) = 5.0, sin(30 degrees) ≈ 0.5, 5.0 + 0.5 ≈ 5.5 + 2.0 ≈ 7.5\n"
   ]
  },
  {
   "cell_type": "code",
   "execution_count": 7,
   "id": "ac700312",
   "metadata": {},
   "outputs": [],
   "source": [
    "expression = \"3 + 4 * 2\"\n",
    "result = eval(expression)  # Evaluates to 11\n"
   ]
  },
  {
   "cell_type": "markdown",
   "id": "4f98b5b5",
   "metadata": {},
   "source": [
    "Exercise 8 - Create a code cell to multiply and add numbers.(2 pts)\n",
    "\n",
    "This a simple arithmetic expression to mutiply then add integers"
   ]
  },
  {
   "cell_type": "code",
   "execution_count": 8,
   "id": "cb5dbacf",
   "metadata": {},
   "outputs": [
    {
     "data": {
      "text/plain": [
       "17"
      ]
     },
     "execution_count": 8,
     "metadata": {},
     "output_type": "execute_result"
    }
   ],
   "source": [
    "(3*4)+5\n",
    "# Result: 17"
   ]
  },
  {
   "cell_type": "markdown",
   "id": "1fcbd4a1",
   "metadata": {},
   "source": [
    "Exercise 9 - Create a code cell to convert minutes to hours. (2 pts)\n",
    "\n",
    "This will convert 200 minutes to hours by diving by 60"
   ]
  },
  {
   "cell_type": "code",
   "execution_count": 9,
   "id": "fc86b465",
   "metadata": {},
   "outputs": [
    {
     "name": "stdout",
     "output_type": "stream",
     "text": [
      "3.3333333333333335\n"
     ]
    }
   ],
   "source": [
    "minutes = 200\n",
    "hours = minutes / 60\n",
    "\n",
    "print(hours)  # This will print the result, which is 3.3333333333333335\n"
   ]
  },
  {
   "cell_type": "markdown",
   "id": "42198a66",
   "metadata": {},
   "source": [
    "Exercise 10 -Insert a markdown cell to list Objectives.\n",
    "\n",
    "Below the introduction cell created in Exercise 3, insert a new markdown cell to list the objectives that this notebook covered (i.e. some of the key takeaways from the course). In this new cell start with an introductory line titled: Objectives: in bold font. Then using an unordered list (bullets) indicate 3 to 5 items covered in this notebook, such as List popular languages for Data Science."
   ]
  },
  {
   "cell_type": "markdown",
   "id": "55a1ec7f",
   "metadata": {},
   "source": [
    "Exercise 11 - Create a markdown cell to indicate the Author’s name.\n",
    "\n",
    "Author: Arun Kumar K"
   ]
  },
  {
   "cell_type": "code",
   "execution_count": null,
   "id": "eb36dc65",
   "metadata": {},
   "outputs": [],
   "source": []
  }
 ],
 "metadata": {
  "kernelspec": {
   "display_name": "Python 3 (ipykernel)",
   "language": "python",
   "name": "python3"
  },
  "language_info": {
   "codemirror_mode": {
    "name": "ipython",
    "version": 3
   },
   "file_extension": ".py",
   "mimetype": "text/x-python",
   "name": "python",
   "nbconvert_exporter": "python",
   "pygments_lexer": "ipython3",
   "version": "3.11.3"
  }
 },
 "nbformat": 4,
 "nbformat_minor": 5
}
